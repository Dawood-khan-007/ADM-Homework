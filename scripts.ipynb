{
 "cells": [
  {
   "cell_type": "markdown",
   "id": "259bf4a2-02e5-4bcb-9fff-486555c1a830",
   "metadata": {},
   "source": [
    "# 1) Introduction Exercise"
   ]
  },
  {
   "cell_type": "markdown",
   "id": "b82e00f9-412e-44a1-acdc-b7b2eb351ee0",
   "metadata": {},
   "source": [
    "#### Hello World"
   ]
  },
  {
   "cell_type": "code",
   "execution_count": null,
   "id": "9c86b44a-ee0b-4cb1-90d3-bb39333d0f57",
   "metadata": {},
   "outputs": [],
   "source": [
    "if __name__ == '__main__':\n",
    "    print(\"Hello, World!\")\n"
   ]
  },
  {
   "cell_type": "markdown",
   "id": "357ae250-a78f-4209-890a-e6a708180fd4",
   "metadata": {},
   "source": [
    "### if-else"
   ]
  },
  {
   "cell_type": "code",
   "execution_count": null,
   "id": "b341e45b-23c4-410c-987f-7e0b48bf0da9",
   "metadata": {},
   "outputs": [],
   "source": [
    "#!/bin/python3\n",
    "\n",
    "import math\n",
    "import os\n",
    "import random\n",
    "import re\n",
    "import sys\n",
    "\n",
    "\n",
    "\n",
    "if __name__ == '__main__':\n",
    "    n = int(input().strip())\n",
    "    if n%2==1:\n",
    "        print(\"Weird\")\n",
    "    elif n%2==0 and 2<=n<=5:\n",
    "        print(\"Not Weird\")\n",
    "    elif n%2==0 and 6<=n<=20:\n",
    "        print(\"Weird\")\n",
    "    else:\n",
    "        print(\"Not Weird\")\n",
    "    \n"
   ]
  },
  {
   "cell_type": "markdown",
   "id": "950c0944-4bb0-4f63-ae57-8ea874f8ea45",
   "metadata": {},
   "source": [
    "### Arithmetic operators"
   ]
  },
  {
   "cell_type": "code",
   "execution_count": null,
   "id": "77258c0a-b091-4f83-875f-366110e8a836",
   "metadata": {},
   "outputs": [],
   "source": [
    "if __name__ == '__main__':\n",
    "    a = int(input())\n",
    "    b = int(input())\n",
    "    print(a+b)\n",
    "    print(a-b)\n",
    "    print(a*b)\n",
    "    \n"
   ]
  },
  {
   "cell_type": "markdown",
   "id": "3eefeb65-fa8a-404b-841e-49215c74ab8c",
   "metadata": {},
   "source": [
    "### Divison"
   ]
  },
  {
   "cell_type": "code",
   "execution_count": null,
   "id": "087dafd0-48bc-4fc9-8f98-9d9d0a954907",
   "metadata": {},
   "outputs": [],
   "source": [
    "if __name__ == '__main__':\n",
    "    a = int(input())\n",
    "    b = int(input())\n",
    "    print(a//b)\n",
    "    print(a/b)\n"
   ]
  },
  {
   "cell_type": "markdown",
   "id": "2eb736dd-44d0-46b3-8cb6-de6ec2d89af5",
   "metadata": {},
   "source": [
    "### Loops"
   ]
  },
  {
   "cell_type": "code",
   "execution_count": null,
   "id": "9cbafcb4-1251-4e96-af91-0a1de3699da5",
   "metadata": {},
   "outputs": [],
   "source": [
    "if __name__ == '__main__':\n",
    "    n = int(input())\n",
    "    for i in range(n): \n",
    "        print(i*i)\n"
   ]
  },
  {
   "cell_type": "markdown",
   "id": "baf008fd-0dc3-4906-9acd-70deaf74c405",
   "metadata": {},
   "source": [
    "### Function"
   ]
  },
  {
   "cell_type": "code",
   "execution_count": null,
   "id": "a1a9f122-7530-4e53-82b0-a853f11dfc79",
   "metadata": {},
   "outputs": [],
   "source": [
    "def is_leap(year):\n",
    "    leap = False\n",
    "    \n",
    "    if year %400==0:\n",
    "        return True\n",
    "    elif year%100==0:\n",
    "        return leap\n",
    "    elif year%4==0:\n",
    "        return True\n",
    "    \n",
    "    return leap\n",
    "\n"
   ]
  },
  {
   "cell_type": "markdown",
   "id": "3fbfb21b-c490-4b48-8e41-47e5557209f0",
   "metadata": {},
   "source": [
    "### Print Function"
   ]
  },
  {
   "cell_type": "code",
   "execution_count": null,
   "id": "87f58130-87b4-415c-92f5-9a458101afa5",
   "metadata": {},
   "outputs": [],
   "source": [
    "if __name__ == '__main__':\n",
    "    n = int(input())\n",
    "    for i in range(1,n+1):\n",
    "         print(i,end='')\n"
   ]
  },
  {
   "cell_type": "markdown",
   "id": "15b6b3a4-eb72-4cd8-adab-bb51bd851883",
   "metadata": {},
   "source": [
    "# 2) Basic Data Type"
   ]
  },
  {
   "cell_type": "markdown",
   "id": "9bdfe4e0-5ff2-43f2-80cd-3fa193b7040e",
   "metadata": {},
   "source": [
    "### List Comprehension"
   ]
  },
  {
   "cell_type": "code",
   "execution_count": null,
   "id": "f3aa9bce-b6e3-47c2-8442-33865fe5cefc",
   "metadata": {},
   "outputs": [],
   "source": [
    "if __name__ == '__main__':\n",
    "    x = int(input())\n",
    "    y = int(input())\n",
    "    z = int(input())\n",
    "    n = int(input())\n",
    "    per=[[i,j,k] for i in range(x+1) for j in range(y+1) for k in range(z+1)if (i+j+k !=n)]\n",
    "    print(per)\n"
   ]
  },
  {
   "cell_type": "markdown",
   "id": "2a77a5d0-f373-49b4-9c1b-33ca6b1bec4e",
   "metadata": {},
   "source": [
    "### Runner Up Score"
   ]
  },
  {
   "cell_type": "code",
   "execution_count": null,
   "id": "8f42eeab-d410-47c8-94af-da3001dcdd81",
   "metadata": {},
   "outputs": [],
   "source": [
    "if __name__ == '__main__':\n",
    "    n = int(input())\n",
    "    arr = list(map(int, input().split()))\n",
    "    if 2 <= n <= 10 and len(arr) == n and all(-100 <= score <= 100 for score in arr):\n",
    "        unique_score=sorted(set(arr))\n",
    "        print(unique_score[-2])\n"
   ]
  },
  {
   "cell_type": "markdown",
   "id": "c421cf6d-e5c9-47a4-9ff1-505d97719b33",
   "metadata": {},
   "source": [
    "### Nested List"
   ]
  },
  {
   "cell_type": "code",
   "execution_count": null,
   "id": "4d43285e-cab7-4eac-bc88-541f2c142bd7",
   "metadata": {},
   "outputs": [],
   "source": [
    "if __name__ == '__main__':\n",
    "    n = int(input())\n",
    "    students =[]\n",
    "    if 2<=n<=5:\n",
    "        for _ in range(n):\n",
    "            name = input()\n",
    "            score = float(input())\n",
    "            students.append([name,score])\n",
    "    \n",
    "    grades=sorted(set(student[1] for student in students))\n",
    "    second_lowest_scores=grades[1]\n",
    "    second_lowest_students = [student[0] for student in students if student[1] == second_lowest_scores]\n",
    "    second_lowest_students.sort()\n",
    "    for name in second_lowest_students:\n",
    "        print(name)\n"
   ]
  },
  {
   "cell_type": "markdown",
   "id": "2bf1eed6-bde7-49d9-9056-abe05bb97d92",
   "metadata": {},
   "source": [
    "### Percentage"
   ]
  },
  {
   "cell_type": "code",
   "execution_count": null,
   "id": "3d0b506b-afd8-4250-a681-f94b14441984",
   "metadata": {},
   "outputs": [],
   "source": [
    "if __name__ == '__main__':\n",
    "    n = int(input())\n",
    "    \n",
    "    if 2 <= n <= 10:\n",
    "        student_marks = {}\n",
    "        \n",
    "        for _ in range(n):\n",
    "            line = input().split()\n",
    "            name = line[0]\n",
    "            scores = list(map(float, line[1:]))\n",
    "            \n",
    "            if len(scores) == 3 and all(0 <= score <= 100 for score in scores):\n",
    "                student_marks[name] = scores\n",
    "\n",
    "        query_name = input()\n",
    "\n",
    "        if query_name in student_marks:\n",
    "            average = sum(student_marks[query_name]) / len(student_marks[query_name])\n",
    "            print(f\"{average:.2f}\")\n"
   ]
  },
  {
   "cell_type": "markdown",
   "id": "71e7b1a5-beb0-40bb-bde5-ee30c2de7b26",
   "metadata": {},
   "source": [
    "### Lists"
   ]
  },
  {
   "cell_type": "code",
   "execution_count": null,
   "id": "78c03022-9560-42c5-a976-0d7457862a19",
   "metadata": {},
   "outputs": [],
   "source": [
    "if __name__ == '__main__':\n",
    "    N = int(input())\n",
    "    my_list=[]\n",
    "    \n",
    "    for _ in range(N):\n",
    "        command = input().split()\n",
    "\n",
    "        if command[0] == \"insert\":\n",
    "            my_list.insert(int(command[1]), int(command[2]))\n",
    "        \n",
    "        elif command[0] == \"print\":\n",
    "            print(my_list)\n",
    "        \n",
    "        elif command[0] == \"remove\":\n",
    "            my_list.remove(int(command[1]))\n",
    "        \n",
    "        elif command[0] == \"append\":\n",
    "            my_list.append(int(command[1]))\n",
    "        \n",
    "        elif command[0] == \"sort\":\n",
    "            my_list.sort()\n",
    "        \n",
    "        elif command[0] == \"pop\":\n",
    "            my_list.pop()\n",
    "        \n",
    "        elif command[0] == \"reverse\":\n",
    "            my_list.reverse()\n"
   ]
  },
  {
   "cell_type": "markdown",
   "id": "2b50a11f-b872-4731-91d5-efdc09fcffd3",
   "metadata": {},
   "source": [
    "### Tuples"
   ]
  },
  {
   "cell_type": "code",
   "execution_count": null,
   "id": "dfbc75d7-d516-4466-9d4e-f78050f147cc",
   "metadata": {},
   "outputs": [],
   "source": [
    "if __name__ == '__main__':\n",
    "    n = int(input())\n",
    "    integer_list = map(int, input().split())\n",
    "    t=tuple(integer_list)\n",
    "    print(hash(t))\n"
   ]
  },
  {
   "cell_type": "markdown",
   "id": "86bafe32-298e-4a19-9775-37e6c4fee5e8",
   "metadata": {},
   "source": [
    "# 3) Strings"
   ]
  },
  {
   "cell_type": "markdown",
   "id": "101f5687-9f78-4e5e-baf8-387058e40293",
   "metadata": {},
   "source": [
    "### Swap Case"
   ]
  },
  {
   "cell_type": "code",
   "execution_count": null,
   "id": "03274ca3-bdb8-41bf-a087-201ec43d6b31",
   "metadata": {},
   "outputs": [],
   "source": [
    "def swap_case(s):\n",
    "    return s.swapcase()\n"
   ]
  },
  {
   "cell_type": "markdown",
   "id": "50cb894e-03d1-4a80-9380-951b2b86908f",
   "metadata": {},
   "source": [
    "### String split and join"
   ]
  },
  {
   "cell_type": "code",
   "execution_count": null,
   "id": "3d78c10c-1619-4c0a-b7c7-e067019e4c65",
   "metadata": {},
   "outputs": [],
   "source": [
    "\n",
    "\n",
    "def split_and_join(line):\n",
    "    words=line.split()\n",
    "    result='-'.join(words)\n",
    "    return result\n",
    "    \n",
    "if __name__ == '__main__':\n",
    "    line = input()\n",
    "    result = split_and_join(line)\n",
    "    print(result)\n"
   ]
  },
  {
   "cell_type": "markdown",
   "id": "0cf58157-bf92-447d-9e5b-8c5041edd5ff",
   "metadata": {},
   "source": [
    "### What's Your name"
   ]
  },
  {
   "cell_type": "code",
   "execution_count": null,
   "id": "d9ea9577-ac50-4b08-97e6-f7ec78b6eec2",
   "metadata": {},
   "outputs": [],
   "source": [
    "#\n",
    "# Complete the 'print_full_name' function below.\n",
    "#\n",
    "# The function is expected to return a STRING.\n",
    "# The function accepts following parameters:\n",
    "#  1. STRING first\n",
    "#  2. STRING last\n",
    "#\n",
    "\n",
    "def print_full_name(first, last):\n",
    "     print(f\"Hello {first} {last}! You just delved into python.\") \n",
    "        \n",
    "\n"
   ]
  },
  {
   "cell_type": "markdown",
   "id": "e0f2d2af-7dbf-4449-b695-a74c1696562f",
   "metadata": {},
   "source": [
    "### Mutations"
   ]
  },
  {
   "cell_type": "code",
   "execution_count": null,
   "id": "3e3830dc-c97e-4238-86b9-06d75512a561",
   "metadata": {},
   "outputs": [],
   "source": [
    "def mutate_string(string, position, character):\n",
    "    my_list = list(string)\n",
    "    my_list[position] = character\n",
    "    return ''.join(my_list)\n",
    "\n"
   ]
  },
  {
   "cell_type": "markdown",
   "id": "910592ef-9f24-4334-aacf-f401e939713b",
   "metadata": {},
   "source": [
    "### Find a string"
   ]
  },
  {
   "cell_type": "code",
   "execution_count": null,
   "id": "99106429-0c95-467e-af00-87b196782ef0",
   "metadata": {},
   "outputs": [],
   "source": [
    "def count_substring(string, sub_string):\n",
    "    count = 0\n",
    "    sub_length = len(sub_string)\n",
    "    \n",
    "    for i in range(len(string) - sub_length + 1):\n",
    "        if string[i:i + sub_length] == sub_string:\n",
    "            count += 1\n",
    "    return count\n",
    "\n"
   ]
  },
  {
   "cell_type": "markdown",
   "id": "2df66be4-a1cb-42fb-886b-434252e916ef",
   "metadata": {},
   "source": [
    "### String Validators"
   ]
  },
  {
   "cell_type": "code",
   "execution_count": null,
   "id": "bdf7eea0-e8be-49b8-8449-54a95e4a366a",
   "metadata": {},
   "outputs": [],
   "source": [
    "if __name__ == '__main__':\n",
    "    s = input()\n",
    "    if 0 <= len(s) <= 1000:\n",
    "        print(any(char.isalnum() for char in s))  \n",
    "        print(any(char.isalpha() for char in s))  \n",
    "        print(any(char.isdigit() for char in s))  \n",
    "        print(any(char.islower() for char in s)) \n",
    "        print(any(char.isupper() for char in s))\n"
   ]
  },
  {
   "cell_type": "markdown",
   "id": "6378c724-a4bc-42d8-9cff-553f61f0ed8f",
   "metadata": {},
   "source": [
    "### Text Alignment"
   ]
  },
  {
   "cell_type": "code",
   "execution_count": null,
   "id": "205456e9-5015-417c-b4eb-93abe5cc007c",
   "metadata": {},
   "outputs": [],
   "source": [
    "thickness = int(input())  # This must be an odd number\n",
    "c = 'H'\n",
    "\n",
    "for i in range(thickness):\n",
    "    print((c * i).rjust(thickness - 1) + c + (c * i).ljust(thickness - 1))\n",
    "\n",
    "for i in range(thickness + 1):\n",
    "    print((c * thickness).center(thickness * 2) + (c * thickness).center(thickness * 6))\n",
    "\n",
    "for i in range((thickness + 1) // 2):\n",
    "    print((c * thickness * 5).center(thickness * 6))\n",
    "\n",
    "for i in range(thickness + 1):\n",
    "    print((c * thickness).center(thickness * 2) + (c * thickness).center(thickness * 6))\n",
    "\n",
    "for i in range(thickness):\n",
    "    print(((c * (thickness - i - 1)).rjust(thickness) + c + (c * (thickness - i - 1)).ljust(thickness)).rjust(thickness * 6))\n"
   ]
  },
  {
   "cell_type": "markdown",
   "id": "5a46c11d-9abd-4887-b416-e920deaf4a63",
   "metadata": {},
   "source": [
    "### Text Wrap"
   ]
  },
  {
   "cell_type": "code",
   "execution_count": null,
   "id": "cd03d991-844d-474f-a4c9-2a891cd9d26a",
   "metadata": {},
   "outputs": [],
   "source": [
    "\n",
    "\n",
    "def wrap(string, max_width):\n",
    "    return textwrap.fill(string, max_width)\n",
    "\n"
   ]
  },
  {
   "cell_type": "markdown",
   "id": "ce4054a9-000e-4d8d-a48d-2f336f700eb4",
   "metadata": {},
   "source": [
    "### Designer Door Mat "
   ]
  },
  {
   "cell_type": "code",
   "execution_count": null,
   "id": "d5645851-38df-4538-a66a-ffb18a0a677c",
   "metadata": {},
   "outputs": [],
   "source": [
    "def create_doormat(N, M):\n",
    "    for i in range(1, N, 2):\n",
    "        pattern = '.|.' * i\n",
    "        print(pattern.center(M, '-'))\n",
    "    \n",
    "    print('WELCOME'.center(M, '-'))\n",
    "    for i in range(N-2, 0, -2):\n",
    "        pattern = '.|.' * i\n",
    "        print(pattern.center(M, '-'))\n",
    "\n",
    "if __name__ == '__main__':\n",
    "    N, M = map(int, input().split())\n",
    "    \n",
    "    if 5 < N < 101 and 15 < M < 303 and N % 2 == 1:\n",
    "        create_doormat(N, M)\n",
    "    else:\n",
    "        print(\"Input values are out of the specified constraints.\")\n"
   ]
  },
  {
   "cell_type": "markdown",
   "id": "541c2bc6-0fcf-4884-8c06-2a1ece1a785e",
   "metadata": {},
   "source": [
    "### STring formatting"
   ]
  },
  {
   "cell_type": "code",
   "execution_count": null,
   "id": "5432208a-120e-48da-8962-0f2d13c256b5",
   "metadata": {},
   "outputs": [],
   "source": [
    "def print_formatted(number):\n",
    "    width = len(bin(number)) - 2\n",
    "    for i in range(1, number + 1):\n",
    "        print(str(i).rjust(width), \n",
    "              oct(i)[2:].rjust(width), \n",
    "              hex(i)[2:].upper().rjust(width), \n",
    "              bin(i)[2:].rjust(width))\n",
    "\n"
   ]
  },
  {
   "cell_type": "markdown",
   "id": "a9044fd8-5e1c-4268-b827-d8a6f0c0051f",
   "metadata": {},
   "source": [
    "### Alphabet Rangoli"
   ]
  },
  {
   "cell_type": "code",
   "execution_count": null,
   "id": "304c0d80-00bd-4f09-b640-c09a74a7484c",
   "metadata": {},
   "outputs": [],
   "source": [
    "def print_rangoli(size):\n",
    "    import string\n",
    "    alpha = string.ascii_lowercase\n",
    "\n",
    "    L = []\n",
    "    for i in range(size):\n",
    "        s = '-'.join(alpha[size-1:i:-1] + alpha[i:size])\n",
    "        L.append(s.center(4*size-3, '-'))\n",
    "    print('\\n'.join(L[:0:-1] + L))\n",
    "\n"
   ]
  },
  {
   "cell_type": "markdown",
   "id": "8b0be1f9-9269-4a30-8c8b-fcf40994f26d",
   "metadata": {},
   "source": [
    "### Capitalise"
   ]
  },
  {
   "cell_type": "code",
   "execution_count": null,
   "id": "cf13bc7f-c514-4cc1-83f9-f7a786bf036d",
   "metadata": {},
   "outputs": [],
   "source": [
    "\n",
    "def solve(s):\n",
    "    words = s.split(' ')\n",
    "    capitalized_words = []\n",
    "    for word in words:\n",
    "        if word:\n",
    "            capitalized_word = word[0].upper() + word[1:].lower()\n",
    "        else:\n",
    "            capitalized_word = ''\n",
    "        capitalized_words.append(capitalized_word)\n",
    "    return ' '.join(capitalized_words)\n",
    "\n"
   ]
  },
  {
   "cell_type": "markdown",
   "id": "4e666724-7de3-4f5c-bc01-b9389ba1f2d3",
   "metadata": {},
   "source": [
    "### The minion game"
   ]
  },
  {
   "cell_type": "code",
   "execution_count": null,
   "id": "56481fe4-5408-4237-983d-063f0d11e7c0",
   "metadata": {},
   "outputs": [],
   "source": [
    "def minion_game(string):\n",
    "    kevin_score = 0\n",
    "    stuart_score = 0\n",
    "    \n",
    "    length = len(string)\n",
    "    \n",
    "    for i in range(length):\n",
    "        points = length - i\n",
    "        \n",
    "        if string[i] in 'AEIOU':\n",
    "            kevin_score += points\n",
    "        else:\n",
    "            stuart_score += points\n",
    "    \n",
    "    if kevin_score > stuart_score:\n",
    "        print(f\"Kevin {kevin_score}\")\n",
    "    elif stuart_score > kevin_score:\n",
    "        print(f\"Stuart {stuart_score}\")\n",
    "    else:\n",
    "        print(\"Draw\")\n",
    "\n",
    "\n"
   ]
  },
  {
   "cell_type": "markdown",
   "id": "4d8d4abb-54a4-4fa9-a062-aa2512fc8e77",
   "metadata": {},
   "source": [
    "### Merge The tools"
   ]
  },
  {
   "cell_type": "code",
   "execution_count": null,
   "id": "e4e5b2f6-0c6a-4dc1-89b7-82f82f96a629",
   "metadata": {},
   "outputs": [],
   "source": [
    "def merge_the_tools(string, k):\n",
    "    for i in range(0, len(string), k):\n",
    "        substring = string[i:i+k]\n",
    "        \n",
    "        checked = set()\n",
    "        result = []\n",
    "        for char in substring:\n",
    "            if char not in checked:\n",
    "                checked.add(char)\n",
    "                result.append(char)\n",
    "        \n",
    "        print(''.join(result))\n",
    "\n"
   ]
  },
  {
   "cell_type": "markdown",
   "id": "cbc4d0e5-073b-4033-8c54-4463c3c5e6af",
   "metadata": {},
   "source": [
    "# 4) Sets"
   ]
  },
  {
   "cell_type": "markdown",
   "id": "19196bb9-1ff9-4d87-894e-b25528708e17",
   "metadata": {},
   "source": [
    "### Intro to sets"
   ]
  },
  {
   "cell_type": "code",
   "execution_count": null,
   "id": "bfd88cb4-60b4-4262-b87c-43d99fe88c08",
   "metadata": {},
   "outputs": [],
   "source": [
    "def average(array):\n",
    "    Distinct_heights=set(array)\n",
    "    sum_of_heights= sum(Distinct_heights)\n",
    "    count=len(Distinct_heights)\n",
    "    av= sum_of_heights/ count\n",
    "    return av\n",
    "\n"
   ]
  },
  {
   "cell_type": "markdown",
   "id": "42505ddc-7fac-46bf-ae53-b29ebf84e628",
   "metadata": {},
   "source": [
    "### No IDea"
   ]
  },
  {
   "cell_type": "code",
   "execution_count": null,
   "id": "1cab4734-e03c-461c-a738-f5d058f5be36",
   "metadata": {},
   "outputs": [],
   "source": [
    "def calculate_happiness(array, set_A, set_B):\n",
    "    happiness = 0\n",
    "    for number in array:\n",
    "        if number in set_A:\n",
    "            happiness += 1\n",
    "        elif number in set_B:\n",
    "            happiness -= 1\n",
    "    return happiness\n",
    "\n",
    "if __name__ == '__main__':\n",
    "    n, m = map(int, input().split())\n",
    "    array = list(map(int, input().split()))\n",
    "    set_A = set(map(int, input().split()))\n",
    "    set_B = set(map(int, input().split()))\n",
    "    final_happiness = calculate_happiness(array, set_A, set_B)\n",
    "    print(final_happiness)\n"
   ]
  },
  {
   "cell_type": "markdown",
   "id": "eb7ba4b1-e2c3-41e5-b91a-4e2483520238",
   "metadata": {},
   "source": [
    "### Symmetrc Difference"
   ]
  },
  {
   "cell_type": "code",
   "execution_count": null,
   "id": "0a0ee2e8-6b13-4368-ae92-ecb93d12a4f6",
   "metadata": {},
   "outputs": [],
   "source": [
    "if __name__ == '__main__':\n",
    "    n = int(input())\n",
    "    a = set(map(int, input().split()))\n",
    "\n",
    "    m = int(input())\n",
    "    b= set(map(int, input().split()))\n",
    "\n",
    "    symm_diff = a.symmetric_difference(b)\n",
    "\n",
    "    for i in sorted(symm_diff):\n",
    "        print(i)\n"
   ]
  },
  {
   "cell_type": "markdown",
   "id": "862171ac-9672-41ac-ba8b-8edc8455a54f",
   "metadata": {},
   "source": [
    "### set.add()"
   ]
  },
  {
   "cell_type": "code",
   "execution_count": null,
   "id": "f0d57af4-a183-485e-b43b-3b054fedbe89",
   "metadata": {},
   "outputs": [],
   "source": [
    "if __name__ == '__main__':\n",
    "    n = int(input())\n",
    "    stamps = set()\n",
    "    \n",
    "    for i in range(n):\n",
    "        country_name = input().strip()\n",
    "        stamps.add(country_name)\n",
    "    \n",
    "    print(len(stamps))\n"
   ]
  },
  {
   "cell_type": "markdown",
   "id": "7c32b704-fffa-4a3c-b2cc-97a3d4900b24",
   "metadata": {},
   "source": [
    "### discard remove and pop"
   ]
  },
  {
   "cell_type": "code",
   "execution_count": null,
   "id": "323a8e5c-05a1-41e7-bb8f-8a4bd34bc70e",
   "metadata": {},
   "outputs": [],
   "source": [
    "# Input parsing\n",
    "n = int(input()) \n",
    "s = set(map(int, input().split()))\n",
    "\n",
    "N = int(input())\n",
    "\n",
    "for _ in range(N):\n",
    "    command = input().split()\n",
    "    if command[0] == \"pop\":\n",
    "        s.pop() \n",
    "    elif command[0] == \"remove\":\n",
    "        s.remove(int(command[1])) \n",
    "    elif command[0] == \"discard\":\n",
    "        s.discard(int(command[1])) \n",
    "print(sum(s))\n"
   ]
  },
  {
   "cell_type": "markdown",
   "id": "2c6bfeee-6465-44de-a437-b8124c649af6",
   "metadata": {},
   "source": [
    "### Set.Union()"
   ]
  },
  {
   "cell_type": "code",
   "execution_count": null,
   "id": "d9f3569a-b3f6-48a1-a638-57cd20a94a6a",
   "metadata": {},
   "outputs": [],
   "source": [
    "if __name__ == '__main__':\n",
    "    n = int(input())\n",
    "    a = set(map(int, input().split()))\n",
    "    m = int(input())\n",
    "    b = set(map(int, input().split()))\n",
    "    \n",
    "    total_unique_subscribers = len(a.union(b))\n",
    "    print(total_unique_subscribers)\n"
   ]
  },
  {
   "cell_type": "markdown",
   "id": "ba506148-ff75-4a6d-ac0e-823fa07ffc7f",
   "metadata": {},
   "source": [
    "### Set.intersection()"
   ]
  },
  {
   "cell_type": "code",
   "execution_count": null,
   "id": "5e4de6eb-85ef-4749-9c3d-701a06d401aa",
   "metadata": {},
   "outputs": [],
   "source": [
    "if __name__ == '__main__':\n",
    "    n = int(input())\n",
    "    a=set(map(int,input().split()))\n",
    "    m = int(input())\n",
    "    b=set(map(int,input().split()))\n",
    "    \n",
    "    total_student_subcribing_both=len(a.intersection(b))\n",
    "    print(total_student_subcribing_both)\n",
    "    \n"
   ]
  },
  {
   "cell_type": "markdown",
   "id": "86d4d880-dc0c-4fef-b54f-568f54dd9be4",
   "metadata": {},
   "source": [
    "### Set.difference"
   ]
  },
  {
   "cell_type": "code",
   "execution_count": null,
   "id": "b81883e3-1289-4899-bf2d-1dc013aafef9",
   "metadata": {},
   "outputs": [],
   "source": [
    "if __name__ == '__main__':\n",
    "    n = int(input())\n",
    "    a = set(map(int, input().split()))\n",
    "    m = int(input())\n",
    "    b = set(map(int, input().split()))\n",
    "    \n",
    "    total_English_subscribers = len(a.difference(b))\n",
    "    print(total_English_subscribers)\n"
   ]
  },
  {
   "cell_type": "markdown",
   "id": "2bd2c453-bc34-433e-b7f3-3eb472724ec1",
   "metadata": {},
   "source": [
    "### Set.symm()"
   ]
  },
  {
   "cell_type": "code",
   "execution_count": null,
   "id": "bdb250e9-9750-461e-802c-55053a90deae",
   "metadata": {},
   "outputs": [],
   "source": [
    "if __name__ == '__main__':\n",
    "    n = int(input())\n",
    "    a = set(map(int, input().split()))\n",
    "    m = int(input())\n",
    "    b = set(map(int, input().split()))\n",
    "    \n",
    "    total_subscribers = len(a.symmetric_difference(b))\n",
    "    print(total_subscribers)\n"
   ]
  },
  {
   "cell_type": "markdown",
   "id": "aa2b4fbd-3542-452d-8093-a82f0ae72703",
   "metadata": {},
   "source": [
    "### Set Mutation"
   ]
  },
  {
   "cell_type": "code",
   "execution_count": null,
   "id": "43e20fba-74f3-443e-ae38-fd74ac7929dd",
   "metadata": {},
   "outputs": [],
   "source": [
    "if __name__ == '__main__':\n",
    "    n = int(input())\n",
    "    s = set(map(int, input().split()))\n",
    "\n",
    "    N = int(input())\n",
    "    \n",
    "    for _ in range(N):\n",
    "        operation, length = input().split()\n",
    "        length = int(length)\n",
    "        other_set = set(map(int, input().split()))\n",
    "        \n",
    "        if operation == 'intersection_update':\n",
    "            s.intersection_update(other_set)\n",
    "        elif operation == 'update':\n",
    "            s.update(other_set)\n",
    "        elif operation == 'symmetric_difference_update':\n",
    "            s.symmetric_difference_update(other_set)\n",
    "        elif operation == 'difference_update':\n",
    "            s.difference_update(other_set)\n",
    "\n",
    "    print(sum(s))\n",
    "\n"
   ]
  },
  {
   "cell_type": "markdown",
   "id": "709f241b-39f0-414f-b33e-dbdd96f7fd07",
   "metadata": {},
   "source": [
    "### Captains room"
   ]
  },
  {
   "cell_type": "code",
   "execution_count": null,
   "id": "4589dfc1-7a1f-4231-a0fd-60da6a43ba47",
   "metadata": {},
   "outputs": [],
   "source": [
    "if __name__ == '__main__':\n",
    "    k = int(input())\n",
    "    room_no = list(map(int, input().split()))\n",
    "    \n",
    "    count = {}\n",
    "    \n",
    "    for room in room_no:\n",
    "        if room in count:\n",
    "            count[room] += 1\n",
    "        else:\n",
    "            count[room] = 1\n",
    "\n",
    "    for room, r_count in count.items():\n",
    "        if r_count == 1:\n",
    "            print(room)\n",
    "            break\n",
    "\n"
   ]
  },
  {
   "cell_type": "markdown",
   "id": "8629dcc1-bac0-4e31-80ed-24e06032d3fa",
   "metadata": {},
   "source": [
    "### Subset"
   ]
  },
  {
   "cell_type": "code",
   "execution_count": null,
   "id": "9afb23c0-4ce2-42f0-8b85-de966801a40a",
   "metadata": {},
   "outputs": [],
   "source": [
    "if __name__ == '__main__':\n",
    "    T = int(input())\n",
    "    for i in range(T):\n",
    "        n = int(input())\n",
    "        A = set(map(int, input().split()))\n",
    "        m = int(input())\n",
    "        B = set(map(int, input().split()))\n",
    "        print(A.issubset(B))\n"
   ]
  },
  {
   "cell_type": "markdown",
   "id": "8af55c7f-f08f-4519-bde6-16dcb4e4c36c",
   "metadata": {},
   "source": [
    "### STrict Superset"
   ]
  },
  {
   "cell_type": "code",
   "execution_count": null,
   "id": "59d1c649-ca97-47d5-9c02-f83f13ca8746",
   "metadata": {},
   "outputs": [],
   "source": [
    "if __name__ == '__main__':\n",
    "    A = set(map(int, input().split()))\n",
    "    n = int(input())\n",
    "    strict_superset = True\n",
    "\n",
    "    for i in range(n):\n",
    "        subset = set(map(int, input().split()))\n",
    "        if not (A > subset):\n",
    "            strict_superset = False\n",
    "            \n",
    "    print(strict_superset)\n"
   ]
  },
  {
   "cell_type": "markdown",
   "id": "9bdf3ec7-b97e-4590-92a9-3cbd76f803c5",
   "metadata": {},
   "source": [
    "# 5) Collections"
   ]
  },
  {
   "cell_type": "markdown",
   "id": "3193f7e7-8d1c-49c5-a234-b7ac607262f3",
   "metadata": {},
   "source": [
    "### Collection.counter()"
   ]
  },
  {
   "cell_type": "code",
   "execution_count": null,
   "id": "629b22dd-7bb3-4d39-9faa-db5b0b44b932",
   "metadata": {},
   "outputs": [],
   "source": [
    "from collections import Counter\n",
    "\n",
    "X = int(input())\n",
    "shoe_sizes = list(map(int, input().split()))\n",
    "shoe_count = Counter(shoe_sizes)\n",
    "\n",
    "N = int(input())\n",
    "total_earnings = 0\n",
    "\n",
    "for _ in range(N):\n",
    "    size, price = map(int, input().split())\n",
    "    if shoe_count[size] > 0:\n",
    "        total_earnings += price\n",
    "        shoe_count[size] -= 1\n",
    "\n",
    "print(total_earnings)\n"
   ]
  },
  {
   "cell_type": "markdown",
   "id": "9c99c169-1b52-4ad9-b81f-e1e27b1c777b",
   "metadata": {},
   "source": [
    "### DefaultDICT Tutorial"
   ]
  },
  {
   "cell_type": "code",
   "execution_count": null,
   "id": "c2c8a635-ffd3-4f11-9965-307ac8fdaddb",
   "metadata": {},
   "outputs": [],
   "source": [
    "from collections import defaultdict\n",
    "\n",
    "n, m = map(int, input().split())\n",
    "\n",
    "word_index = defaultdict(list)\n",
    "\n",
    "for i in range(1, n + 1):\n",
    "    word = input().strip()\n",
    "    word_index[word].append(i)\n",
    "\n",
    "for _ in range(m):\n",
    "    word = input().strip()\n",
    "    if word in word_index:\n",
    "        print(\" \".join(map(str, word_index[word])))\n",
    "    else:\n",
    "        print(-1)\n"
   ]
  },
  {
   "cell_type": "markdown",
   "id": "86bc932f-097e-4a14-bee9-4aa11d504bde",
   "metadata": {},
   "source": [
    "### collection.namedTuple"
   ]
  },
  {
   "cell_type": "code",
   "execution_count": null,
   "id": "1fd5a187-36b1-4c21-a0b2-9c7e2514a21d",
   "metadata": {},
   "outputs": [],
   "source": [
    "N = int(input())\n",
    "columns = input().split()\n",
    "marks_index = columns.index('MARKS')\n",
    "total_marks = 0\n",
    "for i in range(N):\n",
    "    student_data = input().split()\n",
    "    total_marks += int(student_data[marks_index])\n",
    "average_marks = total_marks / N if N > 0 else 0\n",
    "print(f\"{average_marks:.2f}\")\n"
   ]
  },
  {
   "cell_type": "markdown",
   "id": "78f867b6-ba07-44b0-b292-b1c2faf56e99",
   "metadata": {},
   "source": [
    "### collection.orderedDict"
   ]
  },
  {
   "cell_type": "code",
   "execution_count": null,
   "id": "b0d4a09e-ee14-4b58-a215-e3efbb6f5421",
   "metadata": {},
   "outputs": [],
   "source": [
    "from collections import OrderedDict\n",
    "\n",
    "N = int(input())\n",
    "\n",
    "items = OrderedDict()\n",
    "\n",
    "for i in range(N):\n",
    "    *item_name, price = input().split()\n",
    "    item_name = \" \".join(item_name)\n",
    "    price = int(price)\n",
    "    if item_name in items:\n",
    "        items[item_name] += price\n",
    "    else:\n",
    "        items[item_name] = price\n",
    "for item_name, net_price in items.items():\n",
    "    print(f\"{item_name} {net_price}\")\n"
   ]
  },
  {
   "cell_type": "markdown",
   "id": "f5b4db8a-762a-48dd-9ec2-e58da89d4b90",
   "metadata": {},
   "source": [
    "### WordOrder"
   ]
  },
  {
   "cell_type": "code",
   "execution_count": null,
   "id": "ea08e458-7d0b-41c0-9ee2-597eade456f7",
   "metadata": {},
   "outputs": [],
   "source": [
    "n = int(input())\n",
    "word_counter = {}\n",
    "word_order = []\n",
    "\n",
    "for i in range(n):\n",
    "    word = input().strip()\n",
    "    if word not in word_counter:\n",
    "        word_order.append(word)\n",
    "        word_counter[word] = 1\n",
    "    else:\n",
    "        word_counter[word] += 1\n",
    "print(len(word_order))\n",
    "\n",
    "print(\" \".join(str(word_counter[word]) for word in word_order))\n"
   ]
  },
  {
   "cell_type": "markdown",
   "id": "0c5a147c-035b-42dd-9a46-83eb55340cfb",
   "metadata": {},
   "source": [
    "### Collection.Deque"
   ]
  },
  {
   "cell_type": "code",
   "execution_count": null,
   "id": "1feb98a5-c7b4-4fcc-bae6-df377baedda8",
   "metadata": {},
   "outputs": [],
   "source": [
    "from collections import deque\n",
    "d = deque()\n",
    "N = int(input())\n",
    "\n",
    "for i in range(N):\n",
    "    operation_name = input().split()\n",
    "    if operation_name[0] == 'append':\n",
    "        d.append(operation_name[1])\n",
    "    elif operation_name[0] == 'appendleft':\n",
    "        d.appendleft(operation_name[1])\n",
    "    elif operation_name[0] == 'pop':\n",
    "        d.pop()\n",
    "    elif operation_name[0] == 'popleft':\n",
    "        d.popleft()\n",
    "print(\" \".join(d))\n"
   ]
  },
  {
   "cell_type": "markdown",
   "id": "b42855df-91f7-49f3-8bf7-2ba37829c77b",
   "metadata": {},
   "source": [
    "### Company Logo"
   ]
  },
  {
   "cell_type": "code",
   "execution_count": null,
   "id": "e48f4851-d1a3-4443-b884-38d8538d1095",
   "metadata": {},
   "outputs": [],
   "source": [
    "#!/bin/python3\n",
    "\n",
    "import math\n",
    "import os\n",
    "import random\n",
    "import re\n",
    "import sys\n",
    "from collections import Counter\n",
    "\n",
    "def common_char(S):\n",
    "    occurance = Counter(S)\n",
    "    sorted_char= sorted(occurance.items(), key=lambda x: (-x[1], x[0]))\n",
    "    top_three = sorted_char[:3]\n",
    "    \n",
    "    for char, count in top_three:\n",
    "        print(f\"{char} {count}\")\n",
    "\n",
    "\n",
    "if __name__ == '__main__':\n",
    "    s = input()\n",
    "    common_char(s)\n"
   ]
  },
  {
   "cell_type": "markdown",
   "id": "5f03efa2-ea9b-49ea-8974-a00eebcc53af",
   "metadata": {},
   "source": [
    "### Piling up"
   ]
  },
  {
   "cell_type": "code",
   "execution_count": null,
   "id": "fc2e82b7-ed62-4b6c-ab8b-47e18b49692e",
   "metadata": {},
   "outputs": [],
   "source": [
    "def can_stack_cubes(n, blocks):\n",
    "    left = 0\n",
    "    right = n - 1\n",
    "    current_top = float('inf')\n",
    "\n",
    "    while left <= right:\n",
    "        if blocks[left] >= blocks[right]:\n",
    "            chosen = blocks[left]\n",
    "            left += 1\n",
    "        else:\n",
    "            chosen = blocks[right]\n",
    "            right -= 1\n",
    "        \n",
    "        if chosen > current_top:\n",
    "            return \"No\"\n",
    "        \n",
    "        current_top = chosen\n",
    "\n",
    "    return \"Yes\"\n",
    "\n",
    "\n",
    "if __name__ == \"__main__\":\n",
    "    T = int(input())\n",
    "    \n",
    "    for _ in range(T):\n",
    "        n = int(input())\n",
    "        blocks = list(map(int, input().split()))\n",
    "        result = can_stack_cubes(n, blocks)\n",
    "        print(result)\n"
   ]
  },
  {
   "cell_type": "markdown",
   "id": "0b090567-7402-4b55-8ca4-0d1ae4c4d374",
   "metadata": {},
   "source": [
    "# 6) Date and Time"
   ]
  },
  {
   "cell_type": "markdown",
   "id": "3ed0ead1-8d8b-48d1-a682-bbdaac87121b",
   "metadata": {},
   "source": [
    "### Calender Module"
   ]
  },
  {
   "cell_type": "code",
   "execution_count": null,
   "id": "e3000196-e593-486d-af7f-d17f8f385365",
   "metadata": {},
   "outputs": [],
   "source": [
    "import datetime\n",
    "\n",
    "if __name__ == '__main__':\n",
    "    month, day, year = map(int, input().strip().split())\n",
    "    \n",
    "    if 2000 < year < 3000:\n",
    "        date = datetime.date(year, month, day)\n",
    "        name_of_day = date.strftime(\"%A\").upper()\n",
    "        print(name_of_day)\n",
    "    \n"
   ]
  },
  {
   "cell_type": "markdown",
   "id": "fa477611-88cd-4f8b-9f1a-de527f181f0a",
   "metadata": {},
   "source": [
    "### Time Delta"
   ]
  },
  {
   "cell_type": "code",
   "execution_count": null,
   "id": "3ed24ecd-a07b-42a0-a720-0cd27347e579",
   "metadata": {},
   "outputs": [],
   "source": [
    "#!/bin/python3\n",
    "\n",
    "import math\n",
    "import os\n",
    "from datetime import datetime\n",
    "import random\n",
    "import re\n",
    "import sys\n",
    "\n",
    "def time_delta(t1, t2):\n",
    "    fmt = \"%a %d %b %Y %H:%M:%S %z\"\n",
    "    t1 = datetime.strptime(t1, fmt)\n",
    "    t2 = datetime.strptime(t2, fmt)\n",
    "    return str(int(abs((t1 - t2).total_seconds())))\n",
    "\n",
    "if __name__ == '__main__':\n",
    "    fptr = open(os.environ['OUTPUT_PATH'], 'w')\n",
    "\n",
    "    t = int(input())\n",
    "\n",
    "    for t_itr in range(t):\n",
    "        t1 = input()\n",
    "\n",
    "        t2 = input()\n",
    "\n",
    "        delta = time_delta(t1, t2)\n",
    "\n",
    "        fptr.write(delta + '\\n')\n",
    "\n",
    "    fptr.close()\n"
   ]
  },
  {
   "cell_type": "markdown",
   "id": "176db5a7-dd0d-42b4-b5c2-ce7c3854bd75",
   "metadata": {},
   "source": [
    "# 7) Error and Exception"
   ]
  },
  {
   "cell_type": "markdown",
   "id": "8178691a-6185-465e-9a16-9d0ddb6a2e07",
   "metadata": {},
   "source": [
    "### Exceptions"
   ]
  },
  {
   "cell_type": "code",
   "execution_count": null,
   "id": "07bff3b1-517e-439a-81b2-1654e627fda4",
   "metadata": {},
   "outputs": [],
   "source": [
    "T = int(input())\n",
    "\n",
    "for i in range(T):\n",
    "    try:\n",
    "        a, b = input().split()\n",
    "        a = int(a)\n",
    "        b = int(b)\n",
    "        print(a // b)\n",
    "    except ZeroDivisionError as e:\n",
    "        print(f\"Error Code: {e}\")\n",
    "    except ValueError as e:\n",
    "        print(f\"Error Code: {e}\")\n"
   ]
  },
  {
   "cell_type": "markdown",
   "id": "afae95c6-3f55-4717-b5e9-e93a84d7812e",
   "metadata": {},
   "source": [
    "# 8) Buitl ins"
   ]
  },
  {
   "cell_type": "markdown",
   "id": "1be34e80-1dc0-46df-853e-56530fbe3896",
   "metadata": {},
   "source": [
    "### Zipped"
   ]
  },
  {
   "cell_type": "code",
   "execution_count": null,
   "id": "68e36aa5-23c3-49e4-a0ed-d43a4270ce4f",
   "metadata": {},
   "outputs": [],
   "source": [
    "N, X = map(int, input().split())\n",
    "marks = [list(map(float, input().split())) for _ in range(X)]\n",
    "\n",
    "for student_marks in zip(*marks):\n",
    "    average = sum(student_marks) / X\n",
    "    print(f\"{average:.1f}\")\n"
   ]
  },
  {
   "cell_type": "markdown",
   "id": "86d08f98-4883-4e95-98dc-4aa929ee9966",
   "metadata": {},
   "source": [
    "### Athlete Sort"
   ]
  },
  {
   "cell_type": "code",
   "execution_count": null,
   "id": "fd205816-5bf8-427d-979c-b0894d111ef8",
   "metadata": {},
   "outputs": [],
   "source": [
    "#!/bin/python3\n",
    "\n",
    "import math\n",
    "import os\n",
    "import random\n",
    "import re\n",
    "import sys\n",
    "\n",
    "\n",
    "\n",
    "if __name__ == '__main__':\n",
    "    nm = input().split()\n",
    "\n",
    "    n = int(nm[0])\n",
    "\n",
    "    m = int(nm[1])\n",
    "\n",
    "    arr = []\n",
    "\n",
    "    for _ in range(n):\n",
    "        arr.append(list(map(int, input().rstrip().split())))\n",
    "\n",
    "    k = int(input())\n",
    "    \n",
    "    sorted_arr = sorted(arr, key=lambda x: x[k])\n",
    "    \n",
    "    for row in sorted_arr:\n",
    "        print(*row)\n"
   ]
  },
  {
   "cell_type": "markdown",
   "id": "ad25feae-fcfb-4052-a300-82a2f0759c75",
   "metadata": {},
   "source": [
    "### Ginorts"
   ]
  },
  {
   "cell_type": "code",
   "execution_count": null,
   "id": "2ad96b9e-65fa-4e16-8d7c-261ec192e508",
   "metadata": {},
   "outputs": [],
   "source": [
    "S = input()\n",
    "\n",
    "def sorting(c):\n",
    "    if c.islower():\n",
    "        return (1, c)\n",
    "    elif c.isupper():\n",
    "        return (2, c)\n",
    "    elif c.isdigit():\n",
    "        return (3, int(c) % 2 == 0, c)\n",
    "\n",
    "result = ''.join(sorted(S, key=sorting))\n",
    "print(result)\n"
   ]
  },
  {
   "cell_type": "markdown",
   "id": "ee0b74cd-198f-4154-9361-b007101007bf",
   "metadata": {},
   "source": [
    "# 9) Python Functionals"
   ]
  },
  {
   "cell_type": "markdown",
   "id": "2ad5753c-aaa4-4499-84d5-dcf366ef5d43",
   "metadata": {},
   "source": [
    "### Map And Lambda func"
   ]
  },
  {
   "cell_type": "code",
   "execution_count": null,
   "id": "8724b43e-a15f-4157-9e77-780974fe8680",
   "metadata": {},
   "outputs": [],
   "source": [
    "cube = lambda x: x**3 # complete the lambda function \n",
    "\n",
    "def fibonacci(n):\n",
    "    fibo_list = [0, 1]  \n",
    "    for i in range(2, n):\n",
    "        fibo_list.append(fibo_list[-1] + fibo_list[-2])  \n",
    "    return fibo_list[:n]\n"
   ]
  },
  {
   "cell_type": "markdown",
   "id": "74359a62-b05e-4b32-b563-ef612127f4d4",
   "metadata": {},
   "source": [
    "# 10)Regex and Parsing"
   ]
  },
  {
   "cell_type": "markdown",
   "id": "486514c5-0572-46d9-ad4b-ce654c9737a2",
   "metadata": {},
   "source": [
    "### Detect Float"
   ]
  },
  {
   "cell_type": "code",
   "execution_count": null,
   "id": "df479441-5d6d-47bd-bf9b-a203342b5373",
   "metadata": {},
   "outputs": [],
   "source": [
    "import re\n",
    "\n",
    "float_regex = re.compile(r'^[+-]?(\\d*\\.\\d+|\\d+\\.\\d*)$')\n",
    "\n",
    "def is_float(s):\n",
    "    if re.match(float_regex, s):\n",
    "        try:\n",
    "            float(s)\n",
    "            return True\n",
    "        except ValueError:\n",
    "            return False\n",
    "    return False\n",
    "\n",
    "if __name__ == '__main__':\n",
    "    T = int(input())\n",
    "\n",
    "\n",
    "    for i in range(T):\n",
    "        s = input().strip()\n",
    "        print(is_float(s))\n"
   ]
  },
  {
   "cell_type": "markdown",
   "id": "1ded21db-824b-42b9-9cd8-13eab8792ed5",
   "metadata": {},
   "source": [
    "### Re.split"
   ]
  },
  {
   "cell_type": "code",
   "execution_count": null,
   "id": "727ec84c-d2b7-4c82-8f71-0e53fcc70a1c",
   "metadata": {},
   "outputs": [],
   "source": [
    "regex_pattern = r\"[,.]\"\t# Do not delete 'r'.\n",
    "\n",
    "import re\n",
    "print(\"\\n\".join(re.split(regex_pattern, input())))"
   ]
  },
  {
   "cell_type": "markdown",
   "id": "c4b55503-541f-43de-bdf8-87411df3e800",
   "metadata": {},
   "source": [
    "### GRoup,groupdict"
   ]
  },
  {
   "cell_type": "code",
   "execution_count": null,
   "id": "763da152-f339-45d7-8095-eeec56e87e4a",
   "metadata": {},
   "outputs": [],
   "source": [
    "import re\n",
    "\n",
    "if __name__ == '__main__':\n",
    "    S = input().strip()\n",
    "\n",
    "    pattern = r'([a-zA-Z0-9])\\1'\n",
    "\n",
    "    match = re.search(pattern, S)\n",
    "\n",
    "\n",
    "    if match:\n",
    "        print(match.group(1))\n",
    "    else:\n",
    "        print(-1)\n"
   ]
  },
  {
   "cell_type": "markdown",
   "id": "e5ea6052-2bb2-4a16-87f8-405024cb029c",
   "metadata": {},
   "source": [
    "### Re.findall() and Re.finditer()"
   ]
  },
  {
   "cell_type": "code",
   "execution_count": null,
   "id": "1571cd02-0415-45d6-8b52-f82d518ab2ec",
   "metadata": {},
   "outputs": [],
   "source": [
    "import re\n",
    "\n",
    "if __name__ == '__main__':\n",
    "    s = input()\n",
    "    matches = re.findall(r'(?<=[qwrtypsdfghjklzxcvbnmQWRTYPSDFGHJKLZXCVBNM])([aeiouAEIOU]{2,})(?=[qwrtypsdfghjklzxcvbnmQWRTYPSDFGHJKLZXCVBNM])', s)\n",
    "\n",
    "    if matches:\n",
    "        for match in matches:\n",
    "            print(match)\n",
    "    else:\n",
    "        print(-1)\n"
   ]
  },
  {
   "cell_type": "markdown",
   "id": "b834d635-6278-430d-93b7-a0067f5d1a02",
   "metadata": {},
   "source": [
    "### Re.start and Re.end"
   ]
  },
  {
   "cell_type": "code",
   "execution_count": null,
   "id": "8bc703be-d21c-488d-aa34-9b602e7c3eae",
   "metadata": {},
   "outputs": [],
   "source": [
    "if __name__ == '__main__':\n",
    "    S = input().strip()\n",
    "    K= input().strip()\n",
    "\n",
    "    matches = []\n",
    "    start = 0\n",
    "\n",
    "    while start < len(S):\n",
    "        start = S.find(K, start)\n",
    "        if start == -1:\n",
    "            break\n",
    "        end = start + len(K) - 1\n",
    "        matches.append((start, end))\n",
    "        start += 1 \n",
    "\n",
    "    if matches:\n",
    "        for match in matches:\n",
    "            print(match)\n",
    "    else:\n",
    "        print((-1, -1))\n"
   ]
  },
  {
   "cell_type": "markdown",
   "id": "659836aa-2f85-4963-bfdf-eeb25dba3056",
   "metadata": {},
   "source": [
    "### Regex substitution"
   ]
  },
  {
   "cell_type": "code",
   "execution_count": null,
   "id": "8afd8fef-80d2-4acd-af61-9da4f135b7cc",
   "metadata": {},
   "outputs": [],
   "source": [
    "import re\n",
    "\n",
    "def replace(N):\n",
    "    for i in range(N):\n",
    "        line = input()\n",
    "    \n",
    "        line = re.sub(r'(?<= )&&(?= )', 'and', line)\n",
    "\n",
    "        line = re.sub(r'(?<= )\\|\\|(?= )', 'or', line)\n",
    "\n",
    "        print(line)\n",
    "        \n",
    "if __name__ == '__main__':\n",
    "    N = int(input().strip())\n",
    "    replace(N)\n"
   ]
  },
  {
   "cell_type": "markdown",
   "id": "45b85b99-d751-4bfb-959f-a5fa0b8605eb",
   "metadata": {},
   "source": [
    "### Validating Roman Numerals"
   ]
  },
  {
   "cell_type": "code",
   "execution_count": null,
   "id": "467c9508-eadc-4cbc-bc6f-4af4f93d3e0d",
   "metadata": {},
   "outputs": [],
   "source": [
    "regex_pattern = r\"^M{0,3}(CM|CD|D?C{0,3})(XC|XL|L?X{0,3})(IX|IV|V?I{0,3})$\"\n",
    "\n",
    "import re\n",
    "print(str(bool(re.match(regex_pattern, input()))))"
   ]
  },
  {
   "cell_type": "markdown",
   "id": "c1e734fd-0acc-447a-9f8a-5160c26d357e",
   "metadata": {},
   "source": [
    "### Validating Phone number"
   ]
  },
  {
   "cell_type": "code",
   "execution_count": null,
   "id": "756015ae-c768-4485-8a05-b6969eee5391",
   "metadata": {},
   "outputs": [],
   "source": [
    "import re\n",
    "\n",
    "def is_valid_mobile(number):\n",
    "    \n",
    "    pattern = r'^[789]\\d{9}$'\n",
    "    if re.match(pattern, number):\n",
    "        return \"YES\"\n",
    "    else:\n",
    "        return \"NO\"\n",
    "\n",
    "if __name__ == '__main__':\n",
    "    \n",
    "    N = int(input())\n",
    "    for i in range(N):\n",
    "        number = input().strip()\n",
    "        print(is_valid_mobile(number))\n"
   ]
  },
  {
   "cell_type": "markdown",
   "id": "ff91748d-e0d5-4005-af47-d7d67a3cdd5c",
   "metadata": {},
   "source": [
    "### Validating and Parsing email_ID"
   ]
  },
  {
   "cell_type": "code",
   "execution_count": null,
   "id": "b356f4ef-801f-4da0-b3eb-df93a0dc564b",
   "metadata": {},
   "outputs": [],
   "source": [
    "import re\n",
    "import email.utils\n",
    "\n",
    "\n",
    "def valid_email(n):\n",
    "    for _ in range(n):\n",
    "        entry = input().strip()\n",
    "        name, addr = email.utils.parseaddr(entry)\n",
    "        if re.match(email_pattern, addr):\n",
    "            print(email.utils.formataddr((name, addr)))\n",
    "        \n",
    "if __name__ == '__main__':\n",
    "    email_pattern = r'^[a-zA-Z][\\w.-]*@[a-zA-Z]+\\.[a-zA-Z]{1,3}$'\n",
    "    n = int(input())\n",
    "    valid_email(n)\n"
   ]
  },
  {
   "cell_type": "markdown",
   "id": "7d71db5a-42b6-4813-9c2b-96df1db2c411",
   "metadata": {},
   "source": [
    "### Hec Color code"
   ]
  },
  {
   "cell_type": "code",
   "execution_count": null,
   "id": "2a91b9d6-20da-4e34-8d52-d1decb2b1251",
   "metadata": {},
   "outputs": [],
   "source": [
    "import re\n",
    "\n",
    "n = int(input())\n",
    "\n",
    "css_code = \"\"\n",
    "for _ in range(n):\n",
    "    css_code += input() + \"\\n\"\n",
    "\n",
    "blocks_inside_braces = re.findall(r'\\{([^}]*)\\}', css_code)\n",
    "\n",
    "hex_color_pattern = r'#[0-9A-Fa-f]{3,6}'\n",
    "\n",
    "for block in blocks_inside_braces:\n",
    "    matches = re.findall(hex_color_pattern, block)\n",
    "    for color in matches:\n",
    "        print(color)\n"
   ]
  },
  {
   "cell_type": "markdown",
   "id": "aed9f4ef-1bf9-414e-87b9-eecc814bab42",
   "metadata": {},
   "source": [
    "### parser part 1"
   ]
  },
  {
   "cell_type": "code",
   "execution_count": null,
   "id": "3ad1652c-e706-4ff6-992b-e53211e840bc",
   "metadata": {},
   "outputs": [],
   "source": [
    "from html.parser import HTMLParser\n",
    "import sys\n",
    "\n",
    "class MyHTMLParser(HTMLParser):\n",
    "    def __init__(self):\n",
    "        super().__init__()\n",
    "        self.output = []\n",
    "\n",
    "    def handle_starttag(self, tag, attrs):\n",
    "        self.output.append(f\"Start : {tag}\")\n",
    "        for attr, value in attrs:\n",
    "            if value is None:\n",
    "                value = \"None\"\n",
    "            self.output.append(f\"-> {attr} > {value}\")\n",
    "\n",
    "    def handle_endtag(self, tag):\n",
    "        self.output.append(f\"End   : {tag}\")\n",
    "\n",
    "    def handle_startendtag(self, tag, attrs):\n",
    "        self.output.append(f\"Empty : {tag}\")\n",
    "        for attr, value in attrs:\n",
    "            if value is None:\n",
    "                value = \"None\"\n",
    "            self.output.append(f\"-> {attr} > {value}\")\n",
    "\n",
    "    def print_tags(self):\n",
    "        for line in self.output:\n",
    "            print(line)\n",
    "\n",
    "\n",
    "input = sys.stdin.read\n",
    "html_code = input()\n",
    "\n",
    "parser = MyHTMLParser()\n",
    "parser.feed(html_code)\n",
    "parser.print_tags()\n"
   ]
  },
  {
   "cell_type": "markdown",
   "id": "172af640-30a1-470e-832e-d8d0fc32e41b",
   "metadata": {},
   "source": [
    "### parser part 2"
   ]
  },
  {
   "cell_type": "code",
   "execution_count": null,
   "id": "34b7328e-e715-4cc5-a5f9-f1d77e504653",
   "metadata": {},
   "outputs": [],
   "source": [
    "from html.parser import HTMLParser\n",
    "\n",
    "class MyHTMLParser(HTMLParser):\n",
    "    def __init__(self):\n",
    "        super().__init__()\n",
    "        self.output = []\n",
    "\n",
    "    def handle_comment(self, data):\n",
    "        if '\\n' in data:\n",
    "            self.output.append(f\">>> Multi-line Comment\\n{data.strip()}\")\n",
    "        else:\n",
    "            self.output.append(f\">>> Single-line Comment\\n{data.strip()}\")\n",
    "\n",
    "    def handle_data(self, data):\n",
    "        if data.strip():\n",
    "            self.output.append(f\">>> Data\\n{data}\")\n",
    "\n",
    "    def print_output(self):\n",
    "        for item in self.output:\n",
    "            print(item)\n",
    "\n",
    "html = \"\"       \n",
    "for i in range(int(input())):\n",
    "    html += input().rstrip()\n",
    "    html += '\\n'\n",
    "    \n",
    "parser = MyHTMLParser()\n",
    "parser.feed(html)\n",
    "parser.print_output()\n",
    "parser.close()\n"
   ]
  },
  {
   "cell_type": "markdown",
   "id": "9c3c180e-a021-46a9-8863-d2ae130f47e1",
   "metadata": {},
   "source": [
    "### Detect html tags, attributes"
   ]
  },
  {
   "cell_type": "code",
   "execution_count": null,
   "id": "222b2ac4-45f7-473f-a868-17b687a83557",
   "metadata": {},
   "outputs": [],
   "source": [
    "from html.parser import HTMLParser\n",
    "\n",
    "class MyHTMLParser(HTMLParser):\n",
    "    def __init__(self):\n",
    "        super().__init__()\n",
    "\n",
    "    def handle_starttag(self, tag, attrs):\n",
    "        print(tag)\n",
    "        for attr, value in attrs:\n",
    "            print(f\"-> {attr} > {value}\")\n",
    "\n",
    "html = \"\"\n",
    "for _ in range(int(input())):\n",
    "    html += input().rstrip() + '\\n'\n",
    "\n",
    "\n",
    "parser = MyHTMLParser()\n",
    "parser.feed(html)\n"
   ]
  },
  {
   "cell_type": "markdown",
   "id": "452f4171-3de9-4468-b638-a878fd0b04b9",
   "metadata": {},
   "source": [
    "### Validating UID"
   ]
  },
  {
   "cell_type": "code",
   "execution_count": null,
   "id": "f1763fb7-c796-4029-b5e4-bb255655da43",
   "metadata": {},
   "outputs": [],
   "source": [
    "import re\n",
    "\n",
    "def valid_UID(UID):\n",
    "    if len(UID) != 10:\n",
    "        return \"Invalid\"\n",
    "        \n",
    "    if not UID.isalnum():\n",
    "        return \"Invalid\"\n",
    "    \n",
    "    if len(re.findall(r'[A-Z]', UID)) < 2:\n",
    "        return \"Invalid\"\n",
    "    \n",
    "    if len(re.findall(r'[0-9]', UID)) < 3:\n",
    "        return \"Invalid\"\n",
    "    \n",
    "    if len(set(UID)) != len(UID):\n",
    "        return \"Invalid\"\n",
    "    \n",
    "    return \"Valid\"\n",
    "\n",
    "if __name__ == \"__main__\":\n",
    "    T = int(input())\n",
    "    for _ in range(T):\n",
    "        UID = input().strip()\n",
    "        print(valid_UID(UID))\n"
   ]
  },
  {
   "cell_type": "markdown",
   "id": "6bd4f059-0276-41ae-99a1-efbb802eea61",
   "metadata": {},
   "source": [
    "### VAlidating Credit card numbers"
   ]
  },
  {
   "cell_type": "code",
   "execution_count": null,
   "id": "15cc9f1c-8379-4758-812a-36dca9ec9229",
   "metadata": {},
   "outputs": [],
   "source": [
    "import re\n",
    "\n",
    "def is_valid_credit_card(card):\n",
    "\n",
    "    no_hyphen_card = card.replace(\"-\", \"\")\n",
    "    \n",
    "    if len(no_hyphen_card) != 16:\n",
    "        return \"Invalid\"\n",
    "    \n",
    "    if not re.match(r'^[456]\\d{3}-?\\d{4}-?\\d{4}-?\\d{4}$', card):\n",
    "        return \"Invalid\"\n",
    "    \n",
    "    if re.search(r'(\\d)\\1{3,}', no_hyphen_card):\n",
    "        return \"Invalid\"\n",
    "    \n",
    "    return \"Valid\"\n",
    "\n",
    "if __name__ == \"__main__\":\n",
    "    N = int(input())\n",
    "    for i in range(N):\n",
    "        card = input().strip()\n",
    "        print(is_valid_credit_card(card))\n"
   ]
  },
  {
   "cell_type": "markdown",
   "id": "83b9a56b-c10f-4564-9e44-7634488b9cbd",
   "metadata": {},
   "source": [
    "### Validating Postal Codes"
   ]
  },
  {
   "cell_type": "code",
   "execution_count": null,
   "id": "0df19c16-cbcd-43f4-8676-6f58380faf10",
   "metadata": {},
   "outputs": [],
   "source": [
    "regex_integer_in_range = r\"^[1-9]\\d{5}$\"\n",
    "regex_alternating_repetitive_digit_pair = r\"(\\d)(?=\\d\\1)\"\n",
    "\n",
    "\n",
    "import re\n",
    "P = input()\n",
    "\n",
    "print (bool(re.match(regex_integer_in_range, P)) \n",
    "and len(re.findall(regex_alternating_repetitive_digit_pair, P)) < 2)"
   ]
  },
  {
   "cell_type": "markdown",
   "id": "45b8291a-495f-414e-8133-bb37484b0429",
   "metadata": {},
   "source": [
    "### Matrix Sprit"
   ]
  },
  {
   "cell_type": "code",
   "execution_count": null,
   "id": "559abecb-468b-4300-8996-e77bcdc5533c",
   "metadata": {},
   "outputs": [],
   "source": [
    "#!/bin/python3\n",
    "\n",
    "import math\n",
    "import os\n",
    "import random\n",
    "import re\n",
    "import sys\n",
    "\n",
    "\n",
    "\n",
    "\n",
    "first_multiple_input = input().rstrip().split()\n",
    "\n",
    "n = int(first_multiple_input[0])\n",
    "\n",
    "m = int(first_multiple_input[1])\n",
    "\n",
    "matrix = []\n",
    "\n",
    "for _ in range(n):\n",
    "    matrix_item = input()\n",
    "    matrix.append(matrix_item)\n",
    "    \n",
    "decoded_script = ''.join(matrix[j][i] for i in range(m) for j in range(n))\n",
    "cleaned_script = re.sub(r'(?<=\\w)[^\\w]+(?=\\w)', ' ', decoded_script)\n",
    "cleaned_script = re.sub(r'\\s+', ' ', cleaned_script)\n",
    "cleaned_script = cleaned_script.strip()\n",
    "print(cleaned_script)\n"
   ]
  },
  {
   "cell_type": "markdown",
   "id": "db9acfe5-8c5e-4a17-a9e7-aafaa9d718bd",
   "metadata": {},
   "source": [
    "# 11) XML"
   ]
  },
  {
   "cell_type": "markdown",
   "id": "d46ffaff-a728-4e8f-963e-e521ffe6c3d8",
   "metadata": {},
   "source": [
    "### Find the score"
   ]
  },
  {
   "cell_type": "code",
   "execution_count": null,
   "id": "563345f3-c559-46f2-bf9e-07b8e136140d",
   "metadata": {},
   "outputs": [],
   "source": [
    "import sys\n",
    "import xml.etree.ElementTree as etree\n",
    "\n",
    "def get_attr_number(node):\n",
    "    # your code goes here\n",
    "    total_attributes = len(node.attrib)\n",
    "    for child in node:\n",
    "        total_attributes += get_attr_number(child)\n",
    "    return total_attributes\n",
    "if __name__ == '__main__':\n",
    "    sys.stdin.readline()\n",
    "    xml = sys.stdin.read()\n",
    "    tree = etree.ElementTree(etree.fromstring(xml))\n",
    "    root = tree.getroot()\n",
    "    print(get_attr_number(root))"
   ]
  },
  {
   "cell_type": "markdown",
   "id": "e9df7f44-ca84-4a95-86ed-db7d58ef9ecf",
   "metadata": {},
   "source": [
    "### Find MaxDepth"
   ]
  },
  {
   "cell_type": "code",
   "execution_count": null,
   "id": "af11ddbe-704e-4776-b63e-e925ce08420e",
   "metadata": {},
   "outputs": [],
   "source": [
    "import xml.etree.ElementTree as etree\n",
    "\n",
    "maxdepth = 0\n",
    "def depth(elem, level):\n",
    "    global maxdepth\n",
    "    if level + 1 > maxdepth:\n",
    "        maxdepth = level + 1\n",
    "    \n",
    "    for child in elem:\n",
    "        depth(child, level + 1)\n",
    "\n",
    "if __name__ == '__main__':\n",
    "    n = int(input())\n",
    "    xml = \"\"\n",
    "    for i in range(n):\n",
    "        xml =  xml + input() + \"\\n\"\n",
    "    tree = etree.ElementTree(etree.fromstring(xml))\n",
    "    depth(tree.getroot(), -1)\n",
    "    print(maxdepth)"
   ]
  },
  {
   "cell_type": "markdown",
   "id": "8d764d5b-f428-4e78-8569-473e1ab4c45c",
   "metadata": {},
   "source": [
    "# 12) Closure and Decorators"
   ]
  },
  {
   "cell_type": "markdown",
   "id": "3c54bd86-0027-43a9-9c19-e3d587e39c27",
   "metadata": {},
   "source": [
    "### Standardise mobile number"
   ]
  },
  {
   "cell_type": "code",
   "execution_count": null,
   "id": "134c622f-2543-42ef-83f4-77fe62fc6bdc",
   "metadata": {},
   "outputs": [],
   "source": [
    "def wrapper(f):\n",
    "    def fun(l):\n",
    "        numbers = [f'+91 {number[-10:-5]} {number[-5:]}' for number in l]\n",
    "        return f(numbers)\n",
    "    return fun\n",
    "\n",
    "@wrapper\n",
    "def sort_phone(l):\n",
    "    print(*sorted(l), sep='\\n')\n",
    "\n",
    "if __name__ == '__main__':\n",
    "    l = [input() for _ in range(int(input()))]\n",
    "    sort_phone(l) \n",
    "\n",
    "\n"
   ]
  },
  {
   "cell_type": "markdown",
   "id": "b61fe489-036f-4e7d-8cc5-42322cc5c074",
   "metadata": {},
   "source": [
    "### Decorators"
   ]
  },
  {
   "cell_type": "code",
   "execution_count": null,
   "id": "bcf87baf-0529-4430-9593-5cad95c429f7",
   "metadata": {},
   "outputs": [],
   "source": [
    "import operator\n",
    "\n",
    "def person_lister(f):\n",
    "    def inner(people):\n",
    "        sorted_people = sorted(people, key=lambda x: int(x[2]))\n",
    "        return [f(person) for person in sorted_people]\n",
    "    return inner\n",
    "\n",
    "@person_lister\n",
    "def name_format(person):\n",
    "    return (\"Mr. \" if person[3] == \"M\" else \"Ms. \") + person[0] + \" \" + person[1]\n",
    "\n",
    "if __name__ == '__main__':\n",
    "    people = [input().split() for i in range(int(input()))]\n",
    "    print(*name_format(people), sep='\\n')"
   ]
  },
  {
   "cell_type": "markdown",
   "id": "2b227d1e-5549-4724-923d-1e198aafb343",
   "metadata": {},
   "source": [
    "# 13) Numpy"
   ]
  },
  {
   "cell_type": "markdown",
   "id": "934cada5-3727-44f7-94a4-18604797d5db",
   "metadata": {},
   "source": [
    "### Array"
   ]
  },
  {
   "cell_type": "code",
   "execution_count": null,
   "id": "3fc289d6-27fb-40f9-bf47-0559c6187c15",
   "metadata": {},
   "outputs": [],
   "source": [
    "import numpy\n",
    "\n",
    "def arrays(arr):\n",
    "    arr=numpy.array(arr,dtype=float)\n",
    "    return numpy.flip(arr)\n",
    "\n",
    "arr = input().strip().split(' ')\n",
    "result = arrays(arr)\n",
    "print(result)"
   ]
  },
  {
   "cell_type": "markdown",
   "id": "e8864867-d8fd-433e-93f6-2ce7f47c2827",
   "metadata": {},
   "source": [
    "### Shape and Reshape"
   ]
  },
  {
   "cell_type": "code",
   "execution_count": null,
   "id": "4e2411e6-1ba7-471c-a5ab-70a5090b9603",
   "metadata": {},
   "outputs": [],
   "source": [
    "import numpy\n",
    "\n",
    "input_num=input().strip().split()\n",
    "num=list(map(int, input_num))\n",
    "arr=numpy.array(num)\n",
    "reshaped_arr=arr.reshape(3, 3)\n",
    "print(reshaped_arr)"
   ]
  },
  {
   "cell_type": "markdown",
   "id": "3922ac49-cdc3-42fb-a636-dc5c5c49ca8f",
   "metadata": {},
   "source": [
    "### Transpose and Flatten"
   ]
  },
  {
   "cell_type": "code",
   "execution_count": null,
   "id": "5bffb1b0-50b8-4756-a685-c576851454d0",
   "metadata": {},
   "outputs": [],
   "source": [
    "import numpy\n",
    "\n",
    "dimensions = input().strip().split()\n",
    "rows, columns = int(dimensions[0]), int(dimensions[1])\n",
    "\n",
    "\n",
    "matrix_elements = []\n",
    "for i in range(rows):\n",
    "    row = list(map(int, input().strip().split()))\n",
    "    matrix_elements.append(row)\n",
    "\n",
    "\n",
    "matrix = numpy.array(matrix_elements)\n",
    "\n",
    "\n",
    "transposed_matrix = matrix.T\n",
    "\n",
    "\n",
    "flattened_array = matrix.flatten()\n",
    "\n",
    "print(transposed_matrix)\n",
    "\n",
    "print(flattened_array)\n"
   ]
  },
  {
   "cell_type": "markdown",
   "id": "1aa3a99a-2322-46b1-9998-c2e52ec8a8f7",
   "metadata": {},
   "source": [
    "### Concatenate"
   ]
  },
  {
   "cell_type": "code",
   "execution_count": null,
   "id": "ff49585e-19ca-4f94-8d53-180efce25e4b",
   "metadata": {},
   "outputs": [],
   "source": [
    "import numpy\n",
    "\n",
    "\n",
    "dimensions = input().strip().split()\n",
    "N = int(dimensions[0])\n",
    "M = int(dimensions[1])  \n",
    "P = int(dimensions[2])  \n",
    "arr_1 = []\n",
    "arr_2 = []\n",
    "for i in range(N):\n",
    "    row = list(map(int, input().strip().split()))\n",
    "    arr_1.append(row)\n",
    "    \n",
    "for _ in range(M):\n",
    "    row = list(map(int, input().strip().split()))\n",
    "    arr_2.append(row)\n",
    "\n",
    "\n",
    "arr1 = numpy.array(arr_1)\n",
    "arr2 = numpy.array(arr_2)\n",
    "\n",
    "concatenated_array = numpy.concatenate((arr1, arr2), axis=0)\n",
    "print(concatenated_array)\n"
   ]
  },
  {
   "cell_type": "markdown",
   "id": "68e09970-64db-4eb5-9261-989e8c8e0730",
   "metadata": {},
   "source": [
    "### Zeros and ones"
   ]
  },
  {
   "cell_type": "code",
   "execution_count": null,
   "id": "ada3c045-1543-4460-9a9d-982e2689933b",
   "metadata": {},
   "outputs": [],
   "source": [
    "import numpy\n",
    "\n",
    "num=input().strip().split()\n",
    "\n",
    "li=list(map(int,num))\n",
    "\n",
    "zero_arr=numpy.zeros(li,dtype=int)\n",
    "one_arr=numpy.ones(li,dtype=int)\n",
    "\n",
    "print(zero_arr)\n",
    "print(one_arr)\n",
    "\n"
   ]
  },
  {
   "cell_type": "markdown",
   "id": "ecf559d3-8bac-4747-afd9-33d2ca1dbaa5",
   "metadata": {},
   "source": [
    "### EYE and Identity"
   ]
  },
  {
   "cell_type": "code",
   "execution_count": null,
   "id": "cc288aba-83eb-459a-b940-1e4a44d5f693",
   "metadata": {},
   "outputs": [],
   "source": [
    "import numpy\n",
    "numpy.set_printoptions(legacy='1.13')\n",
    "\n",
    "dimensions= input().strip().split()\n",
    "N,M=int(dimensions[0]),int(dimensions[1])\n",
    "\n",
    "arr=numpy.zeros((N,M))\n",
    "\n",
    "numpy.fill_diagonal(arr,1)\n",
    "\n",
    "print(arr)\n",
    "\n",
    "\n",
    "\n",
    "\n",
    "\n"
   ]
  },
  {
   "cell_type": "markdown",
   "id": "7c4a3934-2a5e-45e6-b2e4-36061530c64e",
   "metadata": {},
   "source": [
    "### Array Maths"
   ]
  },
  {
   "cell_type": "code",
   "execution_count": null,
   "id": "e4724b7e-0847-4b16-a45d-0d6a873338c0",
   "metadata": {},
   "outputs": [],
   "source": [
    "import numpy\n",
    "\n",
    "N, M = map(int, input().split())\n",
    "\n",
    "li_A = ([list(map(int, input().split())) for _ in range(N)])\n",
    "li_B= ([list(map(int, input().split())) for _ in range(N)])\n",
    "A=numpy.array(li_A)\n",
    "B=numpy.array(li_B)\n",
    "\n",
    "print(numpy.add(A, B))\n",
    "print(numpy.subtract(A, B))\n",
    "print(numpy.multiply(A, B))\n",
    "print(numpy.floor_divide(A, B))\n",
    "print(numpy.mod(A, B))\n",
    "print(numpy.power(A, B))\n"
   ]
  },
  {
   "cell_type": "markdown",
   "id": "0e3b6e1c-f2e6-49f3-96aa-a069ac398fca",
   "metadata": {},
   "source": [
    "### Floor ceil and rint"
   ]
  },
  {
   "cell_type": "code",
   "execution_count": null,
   "id": "675ed9ea-29e2-4735-b5ea-1e64f425bed0",
   "metadata": {},
   "outputs": [],
   "source": [
    "import numpy\n",
    "\n",
    "N, M = map(int, input().split())\n",
    "\n",
    "li_A = ([list(map(int, input().split())) for _ in range(N)])\n",
    "li_B= ([list(map(int, input().split())) for _ in range(N)])\n",
    "A=numpy.array(li_A)\n",
    "B=numpy.array(li_B)\n",
    "\n",
    "print(numpy.add(A, B))\n",
    "print(numpy.subtract(A, B))\n",
    "print(numpy.multiply(A, B))\n",
    "print(numpy.floor_divide(A, B))\n",
    "print(numpy.mod(A, B))\n",
    "print(numpy.power(A, B))\n"
   ]
  },
  {
   "cell_type": "markdown",
   "id": "1d29e9f1-6785-44e4-87bc-3237d177b6a0",
   "metadata": {},
   "source": [
    "### SUm and Prod"
   ]
  },
  {
   "cell_type": "code",
   "execution_count": null,
   "id": "f9fd273f-9684-4752-ae27-01a087321ce7",
   "metadata": {},
   "outputs": [],
   "source": [
    "import numpy\n",
    "\n",
    "N, M=map(int, input().split())\n",
    "A=numpy.array([list(map(int,input().split()))for i in range(N)])\n",
    "sum=numpy.sum(A,axis=0)\n",
    "prod=numpy.prod(sum)\n",
    "\n",
    "print(prod)\n"
   ]
  },
  {
   "cell_type": "markdown",
   "id": "6760c5ea-5d09-4e21-a99a-e25a8a5b3255",
   "metadata": {},
   "source": [
    "### MIN and MAX"
   ]
  },
  {
   "cell_type": "code",
   "execution_count": null,
   "id": "4593ff80-56f0-48a0-b78a-bd2893cef58b",
   "metadata": {},
   "outputs": [],
   "source": [
    "import numpy\n",
    "\n",
    "N, M=map(int, input().split())\n",
    "A=numpy.array([list(map(int,input().split()))for i in range(N)])\n",
    "minimum=numpy.min(A,axis=1)\n",
    "maximum=numpy.max(minimum)\n",
    "\n",
    "print(maximum)\n"
   ]
  },
  {
   "cell_type": "markdown",
   "id": "5f12befb-ca1d-4582-837b-8f771aa0300d",
   "metadata": {},
   "source": [
    "### MEan var and std"
   ]
  },
  {
   "cell_type": "code",
   "execution_count": null,
   "id": "ab8d9271-fcad-481a-9abe-e2364262f2df",
   "metadata": {},
   "outputs": [],
   "source": [
    "import numpy as np\n",
    "\n",
    "N, M = map(int, input().split())\n",
    "\n",
    "A = np.array([list(map(int, input().split())) for _ in range(N)])\n",
    "\n",
    "mean = np.mean(A, axis=1)\n",
    "\n",
    "\n",
    "variance = np.var(A, axis=0)\n",
    "\n",
    "\n",
    "std = np.std(A)\n",
    "\n",
    "print(mean)\n",
    "print(variance)\n",
    "if std.is_integer():\n",
    "    print(f\"{std:.1f}\")\n",
    "else:\n",
    "    print(f\"{std:.11f}\")\n"
   ]
  },
  {
   "cell_type": "markdown",
   "id": "5517a9d3-2b47-455f-a6c1-c85ad0e5c6e1",
   "metadata": {},
   "source": [
    "### Dot Cross"
   ]
  },
  {
   "cell_type": "code",
   "execution_count": null,
   "id": "6dd599aa-0868-4bf9-ad76-056b8e51d503",
   "metadata": {},
   "outputs": [],
   "source": [
    "import numpy\n",
    "\n",
    "N=int(input())\n",
    "A= numpy.array([list(map(int, input().split())) for i in range(N)])\n",
    "B= numpy.array([list(map(int, input().split())) for i in range(N)])\n",
    "\n",
    "print(numpy.dot(A,B))\n"
   ]
  },
  {
   "cell_type": "markdown",
   "id": "9de86755-51b0-4903-8f2e-31739363a09b",
   "metadata": {},
   "source": [
    "### Inner Outer"
   ]
  },
  {
   "cell_type": "code",
   "execution_count": null,
   "id": "002fa4b8-b661-4160-ae06-f9ec67a659cd",
   "metadata": {},
   "outputs": [],
   "source": [
    "import numpy\n",
    "\n",
    "A = numpy.array(list(map(int, input().split())))\n",
    "B = numpy.array(list(map(int, input().split())))\n",
    "\n",
    "print(numpy.inner(A,B))\n",
    "print(numpy.outer(A,B))\n"
   ]
  },
  {
   "cell_type": "markdown",
   "id": "4d7ce8a2-4045-4bb6-a25e-8b3d7e6a3c96",
   "metadata": {},
   "source": [
    "### Polynomials"
   ]
  },
  {
   "cell_type": "code",
   "execution_count": null,
   "id": "ead8f753-6478-4ede-a3cf-82d6b2c8232a",
   "metadata": {},
   "outputs": [],
   "source": [
    "import numpy\n",
    "\n",
    "coefficients = list(map(float, input().split()))\n",
    "x = float(input())\n",
    "result = numpy.polyval(coefficients, x)\n",
    "print(result)\n"
   ]
  },
  {
   "cell_type": "markdown",
   "id": "902f7a46-7ec8-4fae-9d5b-5534fa6d3664",
   "metadata": {},
   "source": [
    "### Linear Algebra"
   ]
  },
  {
   "cell_type": "code",
   "execution_count": null,
   "id": "f9b9839f-b4b1-4444-bcb4-c87c9162adc3",
   "metadata": {},
   "outputs": [],
   "source": [
    "import numpy as np\n",
    "\n",
    "\n",
    "N = int(input())\n",
    "A = np.array([list(map(float, input().split())) for _ in range(N)])\n",
    "determinant = np.linalg.det(A)\n",
    "if abs(determinant) < 0.01 or determinant.is_integer():\n",
    "    print(f\"{determinant:.1f}\")\n",
    "else:\n",
    "    print(f\"{determinant:.2f}\")\n"
   ]
  },
  {
   "cell_type": "markdown",
   "id": "64ab0798-675e-4327-babd-4970c43727a6",
   "metadata": {},
   "source": [
    "# 14) Birthday cake candles"
   ]
  },
  {
   "cell_type": "code",
   "execution_count": null,
   "id": "fc735419-ce19-47fc-bc6f-caac16b0a3b7",
   "metadata": {},
   "outputs": [],
   "source": [
    "#!/bin/python3\n",
    "\n",
    "import math\n",
    "import os\n",
    "import random\n",
    "import re\n",
    "import sys\n",
    "\n",
    "#\n",
    "# Complete the 'birthdayCakeCandles' function below.\n",
    "#\n",
    "# The function is expected to return an INTEGER.\n",
    "# The function accepts INTEGER_ARRAY candles as parameter.\n",
    "#\n",
    "\n",
    "def birthdayCakeCandles(candles):\n",
    "    tallest_candles = max(candles)\n",
    "    return candles.count(tallest_candles)\n",
    "\n",
    "if __name__ == '__main__':\n",
    "    fptr = open(os.environ['OUTPUT_PATH'], 'w')\n",
    "\n",
    "    candles_count = int(input().strip())\n",
    "\n",
    "    candles = list(map(int, input().rstrip().split()))\n",
    "\n",
    "    result = birthdayCakeCandles(candles)\n",
    "\n",
    "    fptr.write(str(result) + '\\n')\n",
    "\n",
    "    fptr.close()\n"
   ]
  },
  {
   "cell_type": "markdown",
   "id": "5ed2bbea-64cd-4b52-8f38-8dcd4976dd9c",
   "metadata": {},
   "source": [
    "# 15) Kangaroo"
   ]
  },
  {
   "cell_type": "code",
   "execution_count": null,
   "id": "80bcc2fe-598b-4418-b6e0-f2ba56b8b94c",
   "metadata": {},
   "outputs": [],
   "source": [
    "#!/bin/python3\n",
    "\n",
    "import math\n",
    "import os\n",
    "import random\n",
    "import re\n",
    "import sys\n",
    "\n",
    "#\n",
    "# Complete the 'kangaroo' function below.\n",
    "#\n",
    "# The function is expected to return a STRING.\n",
    "# The function accepts following parameters:\n",
    "#  1. INTEGER x1\n",
    "#  2. INTEGER v1\n",
    "#  3. INTEGER x2\n",
    "#  4. INTEGER v2\n",
    "#\n",
    "\n",
    "def kangaroo(x1, v1, x2, v2):\n",
    "    if v1 != v2:\n",
    "        if (x2 - x1) % (v1 - v2) == 0 and (v1 > v2 and x1 < x2 or v2 > v1 and x2 < x1):\n",
    "            return \"YES\"\n",
    "            \n",
    "    if v1 == v2 and x1 == x2:\n",
    "        return \"YES\"\n",
    "    \n",
    "    return \"NO\"\n",
    "\n",
    "if __name__ == '__main__':\n",
    "    fptr = open(os.environ['OUTPUT_PATH'], 'w')\n",
    "\n",
    "    first_multiple_input = input().rstrip().split()\n",
    "\n",
    "    x1 = int(first_multiple_input[0])\n",
    "\n",
    "    v1 = int(first_multiple_input[1])\n",
    "\n",
    "    x2 = int(first_multiple_input[2])\n",
    "\n",
    "    v2 = int(first_multiple_input[3])\n",
    "\n",
    "    result = kangaroo(x1, v1, x2, v2)\n",
    "\n",
    "    fptr.write(result + '\\n')\n",
    "\n",
    "    fptr.close()\n"
   ]
  },
  {
   "cell_type": "markdown",
   "id": "cce2d160-2c5d-4c9f-a3be-3f73304792c4",
   "metadata": {},
   "source": [
    "# 16) Strange advertising"
   ]
  },
  {
   "cell_type": "code",
   "execution_count": null,
   "id": "593b762c-56fa-46d6-8e21-d61901b3a939",
   "metadata": {},
   "outputs": [],
   "source": [
    "#!/bin/python3\n",
    "\n",
    "import math\n",
    "import os\n",
    "import random\n",
    "import re\n",
    "import sys\n",
    "\n",
    "#\n",
    "# Complete the 'viralAdvertising' function below.\n",
    "#\n",
    "# The function is expected to return an INTEGER.\n",
    "# The function accepts INTEGER n as parameter.\n",
    "#\n",
    "\n",
    "def viralAdvertising(n):\n",
    "    add_shared = 5\n",
    "    cumulative_likes = 0\n",
    "    \n",
    "    for day in range(n):\n",
    "        \n",
    "        People_liked = add_shared // 2\n",
    "       \n",
    "        cumulative_likes += People_liked\n",
    "       \n",
    "        add_shared = People_liked * 3\n",
    "    \n",
    "    return cumulative_likes\n",
    "\n",
    "if __name__ == '__main__':\n",
    "    fptr = open(os.environ['OUTPUT_PATH'], 'w')\n",
    "\n",
    "    n = int(input().strip())\n",
    "\n",
    "    result = viralAdvertising(n)\n",
    "\n",
    "    fptr.write(str(result) + '\\n')\n",
    "\n",
    "    fptr.close()\n"
   ]
  },
  {
   "cell_type": "markdown",
   "id": "e58a0366-d68b-4c65-8a6f-38d942fd630c",
   "metadata": {},
   "source": [
    "# 17) Recursive digit sum"
   ]
  },
  {
   "cell_type": "code",
   "execution_count": null,
   "id": "d7225156-4db9-48c8-8576-17e4915ab7e8",
   "metadata": {},
   "outputs": [],
   "source": [
    "#!/bin/python3\n",
    "\n",
    "import math\n",
    "import os\n",
    "import random\n",
    "import re\n",
    "import sys\n",
    "\n",
    "#\n",
    "# Complete the 'superDigit' function below.\n",
    "#\n",
    "# The function is expected to return an INTEGER.\n",
    "# The function accepts following parameters:\n",
    "#  1. STRING n\n",
    "#  2. INTEGER k\n",
    "#\n",
    "\n",
    "def superDigit(n, k):\n",
    "    if len(n) == 1:\n",
    "        return int(n)\n",
    "\n",
    "    total_sum = str(sum(map(int, n)) * k)\n",
    "    return superDigit(total_sum,1)\n",
    "\n",
    "if __name__ == '__main__':\n",
    "    fptr = open(os.environ['OUTPUT_PATH'], 'w')\n",
    "\n",
    "    first_multiple_input = input().rstrip().split()\n",
    "\n",
    "    n = first_multiple_input[0]\n",
    "\n",
    "    k = int(first_multiple_input[1])\n",
    "\n",
    "    result = superDigit(n, k)\n",
    "\n",
    "    fptr.write(str(result) + '\\n')\n",
    "\n",
    "    fptr.close()\n"
   ]
  },
  {
   "cell_type": "markdown",
   "id": "46a73ce2-4c9e-46e2-8bde-b25207be900a",
   "metadata": {},
   "source": [
    "# 18) InsertionSort1"
   ]
  },
  {
   "cell_type": "code",
   "execution_count": null,
   "id": "95d4bd2c-dae0-48ff-adbb-a93001ac8864",
   "metadata": {},
   "outputs": [],
   "source": [
    "#!/bin/python3\n",
    "\n",
    "import math\n",
    "import os\n",
    "import random\n",
    "import re\n",
    "import sys\n",
    "\n",
    "#\n",
    "# Complete the 'insertionSort1' function below.\n",
    "#\n",
    "# The function accepts following parameters:\n",
    "#  1. INTEGER n\n",
    "#  2. INTEGER_ARRAY arr\n",
    "#\n",
    "\n",
    "def insertionSort1(n, arr):\n",
    "    unsortedvalue = arr[-1]\n",
    "    i = n - 2\n",
    "    while (i >= 0 and arr[i] > unsortedvalue):\n",
    "        arr[i + 1] = arr[i]\n",
    "        print(\" \".join(map(str, arr)))\n",
    "        i -= 1\n",
    "    arr[i + 1] = unsortedvalue\n",
    "    print(\" \".join(map(str, arr)))\n",
    "\n",
    "if __name__ == '__main__':\n",
    "    n = int(input().strip())\n",
    "\n",
    "    arr = list(map(int, input().rstrip().split()))\n",
    "\n",
    "    insertionSort1(n, arr)\n"
   ]
  },
  {
   "cell_type": "markdown",
   "id": "00a104d3-f999-4787-b091-d3eeeab9dd37",
   "metadata": {},
   "source": [
    "# 19) Insertionsort2"
   ]
  },
  {
   "cell_type": "code",
   "execution_count": null,
   "id": "da071621-85da-49c1-ab42-f1188925b43e",
   "metadata": {},
   "outputs": [],
   "source": [
    "#!/bin/python3\n",
    "\n",
    "import math\n",
    "import os\n",
    "import random\n",
    "import re\n",
    "import sys\n",
    "\n",
    "#\n",
    "# Complete the 'insertionSort2' function below.\n",
    "#\n",
    "# The function accepts following parameters:\n",
    "#  1. INTEGER n\n",
    "#  2. INTEGER_ARRAY arr\n",
    "#\n",
    "\n",
    "def insertionSort2(n, arr):\n",
    "    for i in range(1, n):\n",
    "        current_element = arr[i]\n",
    "        starting_position = i - 1\n",
    "        while starting_position >= 0 and current_element < arr[starting_position]:\n",
    "            arr[starting_position + 1] = arr[starting_position]\n",
    "            starting_position -= 1\n",
    "        arr[starting_position + 1] = current_element\n",
    "        print(\" \".join(map(str, arr)))\n",
    "        \n",
    "        \n",
    "if __name__ == '__main__':\n",
    "    n = int(input().strip())\n",
    "\n",
    "    arr = list(map(int, input().rstrip().split()))\n",
    "\n",
    "    insertionSort2(n, arr)\n"
   ]
  }
 ],
 "metadata": {
  "kernelspec": {
   "display_name": "Python 3 (ipykernel)",
   "language": "python",
   "name": "python3"
  },
  "language_info": {
   "codemirror_mode": {
    "name": "ipython",
    "version": 3
   },
   "file_extension": ".py",
   "mimetype": "text/x-python",
   "name": "python",
   "nbconvert_exporter": "python",
   "pygments_lexer": "ipython3",
   "version": "3.11.7"
  }
 },
 "nbformat": 4,
 "nbformat_minor": 5
}
